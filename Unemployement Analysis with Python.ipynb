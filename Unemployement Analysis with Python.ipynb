{
 "cells": [
  {
   "cell_type": "markdown",
   "id": "22943b15",
   "metadata": {},
   "source": [
    "## Unemployment Analysis\n",
    "## By- Moon Singhal"
   ]
  },
  {
   "cell_type": "markdown",
   "id": "d10bd827",
   "metadata": {},
   "source": [
    "To analyze the unemployment rate during COVID-19 using Python, we can start by loading the datasets and then performing some basic analysis\n",
    "\n",
    "1. Load the datasets.\n",
    "\n",
    "2. Combine the datasets.\n",
    "\n",
    "3. Clean and preprocess the data.\n",
    "\n",
    "4. Analyze the unemployment rate.\n",
    "\n",
    "5. Visualize the results.\n"
   ]
  },
  {
   "cell_type": "markdown",
   "id": "34084e71",
   "metadata": {},
   "source": [
    "### Importing libraries"
   ]
  },
  {
   "cell_type": "code",
   "execution_count": 1,
   "id": "8afb3b79",
   "metadata": {},
   "outputs": [],
   "source": [
    "import pandas as pd"
   ]
  },
  {
   "cell_type": "code",
   "execution_count": 2,
   "id": "e486d2a0",
   "metadata": {},
   "outputs": [],
   "source": [
    "import numpy as np"
   ]
  },
  {
   "cell_type": "markdown",
   "id": "884d1a9b",
   "metadata": {},
   "source": [
    "### Loading the datasets"
   ]
  },
  {
   "cell_type": "code",
   "execution_count": 5,
   "id": "a7fcecd8",
   "metadata": {},
   "outputs": [],
   "source": [
    "df1 = pd.read_excel(\"C:\\\\Users\\\\MOON SINGHAL\\\\Desktop\\\\cipherbyte technologies\\\\Unemployment in India.xlsx\")"
   ]
  },
  {
   "cell_type": "code",
   "execution_count": 6,
   "id": "98f13aa4",
   "metadata": {},
   "outputs": [],
   "source": [
    "df2 = pd.read_excel(\"C:\\\\Users\\MOON SINGHAL\\\\Desktop\\\\cipherbyte technologies\\\\Unemployment_Rate_upto_11_2020.xlsx\")"
   ]
  },
  {
   "cell_type": "markdown",
   "id": "5d9d0117",
   "metadata": {},
   "source": [
    "### Combining two data using \"concat\""
   ]
  },
  {
   "cell_type": "code",
   "execution_count": 7,
   "id": "f0b88517",
   "metadata": {},
   "outputs": [],
   "source": [
    "data = pd.concat((df1,df2),ignore_index = True)"
   ]
  },
  {
   "cell_type": "code",
   "execution_count": 8,
   "id": "f8698be9",
   "metadata": {},
   "outputs": [
    {
     "data": {
      "text/html": [
       "<div>\n",
       "<style scoped>\n",
       "    .dataframe tbody tr th:only-of-type {\n",
       "        vertical-align: middle;\n",
       "    }\n",
       "\n",
       "    .dataframe tbody tr th {\n",
       "        vertical-align: top;\n",
       "    }\n",
       "\n",
       "    .dataframe thead th {\n",
       "        text-align: right;\n",
       "    }\n",
       "</style>\n",
       "<table border=\"1\" class=\"dataframe\">\n",
       "  <thead>\n",
       "    <tr style=\"text-align: right;\">\n",
       "      <th></th>\n",
       "      <th>Region</th>\n",
       "      <th>Date</th>\n",
       "      <th>Frequency</th>\n",
       "      <th>Estimated Unemployment Rate (%)</th>\n",
       "      <th>Estimated Employed</th>\n",
       "      <th>Estimated Labour Participation Rate (%)</th>\n",
       "      <th>Area</th>\n",
       "      <th>Region.1</th>\n",
       "      <th>Longitude</th>\n",
       "      <th>Latitude</th>\n",
       "    </tr>\n",
       "  </thead>\n",
       "  <tbody>\n",
       "    <tr>\n",
       "      <th>767</th>\n",
       "      <td>Assam</td>\n",
       "      <td>30-04-2020</td>\n",
       "      <td>M</td>\n",
       "      <td>11.06</td>\n",
       "      <td>6830817.0</td>\n",
       "      <td>29.55</td>\n",
       "      <td>NaN</td>\n",
       "      <td>Northeast</td>\n",
       "      <td>26.2006</td>\n",
       "      <td>92.9376</td>\n",
       "    </tr>\n",
       "  </tbody>\n",
       "</table>\n",
       "</div>"
      ],
      "text/plain": [
       "    Region        Date Frequency  Estimated Unemployment Rate (%)  \\\n",
       "767  Assam  30-04-2020         M                            11.06   \n",
       "\n",
       "     Estimated Employed  Estimated Labour Participation Rate (%) Area  \\\n",
       "767           6830817.0                                    29.55  NaN   \n",
       "\n",
       "      Region.1  Longitude  Latitude  \n",
       "767  Northeast    26.2006   92.9376  "
      ]
     },
     "execution_count": 8,
     "metadata": {},
     "output_type": "execute_result"
    }
   ],
   "source": [
    "data.sample()"
   ]
  },
  {
   "cell_type": "code",
   "execution_count": 15,
   "id": "bc5d4d9f",
   "metadata": {},
   "outputs": [],
   "source": [
    "data[\"Date\"]=pd.to_datetime(data[\"Date\"],dayfirst=True)"
   ]
  },
  {
   "cell_type": "code",
   "execution_count": 17,
   "id": "b1953717",
   "metadata": {},
   "outputs": [
    {
     "data": {
      "text/html": [
       "<div>\n",
       "<style scoped>\n",
       "    .dataframe tbody tr th:only-of-type {\n",
       "        vertical-align: middle;\n",
       "    }\n",
       "\n",
       "    .dataframe tbody tr th {\n",
       "        vertical-align: top;\n",
       "    }\n",
       "\n",
       "    .dataframe thead th {\n",
       "        text-align: right;\n",
       "    }\n",
       "</style>\n",
       "<table border=\"1\" class=\"dataframe\">\n",
       "  <thead>\n",
       "    <tr style=\"text-align: right;\">\n",
       "      <th></th>\n",
       "      <th>Region</th>\n",
       "      <th>Date</th>\n",
       "      <th>Frequency</th>\n",
       "      <th>Estimated Unemployment Rate (%)</th>\n",
       "      <th>Estimated Employed</th>\n",
       "      <th>Estimated Labour Participation Rate (%)</th>\n",
       "      <th>Area</th>\n",
       "      <th>Region.1</th>\n",
       "      <th>Longitude</th>\n",
       "      <th>Latitude</th>\n",
       "    </tr>\n",
       "  </thead>\n",
       "  <tbody>\n",
       "    <tr>\n",
       "      <th>0</th>\n",
       "      <td>Andhra Pradesh</td>\n",
       "      <td>2019-05-31</td>\n",
       "      <td>Monthly</td>\n",
       "      <td>3.65</td>\n",
       "      <td>11999139.0</td>\n",
       "      <td>43.24</td>\n",
       "      <td>Rural</td>\n",
       "      <td>NaN</td>\n",
       "      <td>NaN</td>\n",
       "      <td>NaN</td>\n",
       "    </tr>\n",
       "    <tr>\n",
       "      <th>133</th>\n",
       "      <td>Jharkhand</td>\n",
       "      <td>2019-05-31</td>\n",
       "      <td>Monthly</td>\n",
       "      <td>7.11</td>\n",
       "      <td>7035766.0</td>\n",
       "      <td>39.04</td>\n",
       "      <td>Rural</td>\n",
       "      <td>NaN</td>\n",
       "      <td>NaN</td>\n",
       "      <td>NaN</td>\n",
       "    </tr>\n",
       "    <tr>\n",
       "      <th>122</th>\n",
       "      <td>Jammu &amp; Kashmir</td>\n",
       "      <td>2019-05-31</td>\n",
       "      <td>Monthly</td>\n",
       "      <td>12.78</td>\n",
       "      <td>2495186.0</td>\n",
       "      <td>40.57</td>\n",
       "      <td>Rural</td>\n",
       "      <td>NaN</td>\n",
       "      <td>NaN</td>\n",
       "      <td>NaN</td>\n",
       "    </tr>\n",
       "    <tr>\n",
       "      <th>561</th>\n",
       "      <td>Madhya Pradesh</td>\n",
       "      <td>2019-05-31</td>\n",
       "      <td>Monthly</td>\n",
       "      <td>3.91</td>\n",
       "      <td>6692720.0</td>\n",
       "      <td>38.96</td>\n",
       "      <td>Urban</td>\n",
       "      <td>NaN</td>\n",
       "      <td>NaN</td>\n",
       "      <td>NaN</td>\n",
       "    </tr>\n",
       "    <tr>\n",
       "      <th>108</th>\n",
       "      <td>Himachal Pradesh</td>\n",
       "      <td>2019-05-31</td>\n",
       "      <td>Monthly</td>\n",
       "      <td>13.68</td>\n",
       "      <td>2045760.0</td>\n",
       "      <td>44.23</td>\n",
       "      <td>Rural</td>\n",
       "      <td>NaN</td>\n",
       "      <td>NaN</td>\n",
       "      <td>NaN</td>\n",
       "    </tr>\n",
       "    <tr>\n",
       "      <th>...</th>\n",
       "      <td>...</td>\n",
       "      <td>...</td>\n",
       "      <td>...</td>\n",
       "      <td>...</td>\n",
       "      <td>...</td>\n",
       "      <td>...</td>\n",
       "      <td>...</td>\n",
       "      <td>...</td>\n",
       "      <td>...</td>\n",
       "      <td>...</td>\n",
       "    </tr>\n",
       "    <tr>\n",
       "      <th>368</th>\n",
       "      <td>NaN</td>\n",
       "      <td>NaT</td>\n",
       "      <td>NaN</td>\n",
       "      <td>NaN</td>\n",
       "      <td>NaN</td>\n",
       "      <td>NaN</td>\n",
       "      <td>NaN</td>\n",
       "      <td>NaN</td>\n",
       "      <td>NaN</td>\n",
       "      <td>NaN</td>\n",
       "    </tr>\n",
       "    <tr>\n",
       "      <th>369</th>\n",
       "      <td>NaN</td>\n",
       "      <td>NaT</td>\n",
       "      <td>NaN</td>\n",
       "      <td>NaN</td>\n",
       "      <td>NaN</td>\n",
       "      <td>NaN</td>\n",
       "      <td>NaN</td>\n",
       "      <td>NaN</td>\n",
       "      <td>NaN</td>\n",
       "      <td>NaN</td>\n",
       "    </tr>\n",
       "    <tr>\n",
       "      <th>370</th>\n",
       "      <td>NaN</td>\n",
       "      <td>NaT</td>\n",
       "      <td>NaN</td>\n",
       "      <td>NaN</td>\n",
       "      <td>NaN</td>\n",
       "      <td>NaN</td>\n",
       "      <td>NaN</td>\n",
       "      <td>NaN</td>\n",
       "      <td>NaN</td>\n",
       "      <td>NaN</td>\n",
       "    </tr>\n",
       "    <tr>\n",
       "      <th>371</th>\n",
       "      <td>NaN</td>\n",
       "      <td>NaT</td>\n",
       "      <td>NaN</td>\n",
       "      <td>NaN</td>\n",
       "      <td>NaN</td>\n",
       "      <td>NaN</td>\n",
       "      <td>NaN</td>\n",
       "      <td>NaN</td>\n",
       "      <td>NaN</td>\n",
       "      <td>NaN</td>\n",
       "    </tr>\n",
       "    <tr>\n",
       "      <th>372</th>\n",
       "      <td>NaN</td>\n",
       "      <td>NaT</td>\n",
       "      <td>NaN</td>\n",
       "      <td>NaN</td>\n",
       "      <td>NaN</td>\n",
       "      <td>NaN</td>\n",
       "      <td>NaN</td>\n",
       "      <td>NaN</td>\n",
       "      <td>NaN</td>\n",
       "      <td>NaN</td>\n",
       "    </tr>\n",
       "  </tbody>\n",
       "</table>\n",
       "<p>1021 rows × 10 columns</p>\n",
       "</div>"
      ],
      "text/plain": [
       "               Region       Date Frequency  Estimated Unemployment Rate (%)  \\\n",
       "0      Andhra Pradesh 2019-05-31   Monthly                             3.65   \n",
       "133         Jharkhand 2019-05-31   Monthly                             7.11   \n",
       "122   Jammu & Kashmir 2019-05-31   Monthly                            12.78   \n",
       "561    Madhya Pradesh 2019-05-31   Monthly                             3.91   \n",
       "108  Himachal Pradesh 2019-05-31   Monthly                            13.68   \n",
       "..                ...        ...       ...                              ...   \n",
       "368               NaN        NaT       NaN                              NaN   \n",
       "369               NaN        NaT       NaN                              NaN   \n",
       "370               NaN        NaT       NaN                              NaN   \n",
       "371               NaN        NaT       NaN                              NaN   \n",
       "372               NaN        NaT       NaN                              NaN   \n",
       "\n",
       "     Estimated Employed  Estimated Labour Participation Rate (%)   Area  \\\n",
       "0            11999139.0                                    43.24  Rural   \n",
       "133           7035766.0                                    39.04  Rural   \n",
       "122           2495186.0                                    40.57  Rural   \n",
       "561           6692720.0                                    38.96  Urban   \n",
       "108           2045760.0                                    44.23  Rural   \n",
       "..                  ...                                      ...    ...   \n",
       "368                 NaN                                      NaN    NaN   \n",
       "369                 NaN                                      NaN    NaN   \n",
       "370                 NaN                                      NaN    NaN   \n",
       "371                 NaN                                      NaN    NaN   \n",
       "372                 NaN                                      NaN    NaN   \n",
       "\n",
       "    Region.1  Longitude  Latitude  \n",
       "0        NaN        NaN       NaN  \n",
       "133      NaN        NaN       NaN  \n",
       "122      NaN        NaN       NaN  \n",
       "561      NaN        NaN       NaN  \n",
       "108      NaN        NaN       NaN  \n",
       "..       ...        ...       ...  \n",
       "368      NaN        NaN       NaN  \n",
       "369      NaN        NaN       NaN  \n",
       "370      NaN        NaN       NaN  \n",
       "371      NaN        NaN       NaN  \n",
       "372      NaN        NaN       NaN  \n",
       "\n",
       "[1021 rows x 10 columns]"
      ]
     },
     "execution_count": 17,
     "metadata": {},
     "output_type": "execute_result"
    }
   ],
   "source": [
    "data.sort_values(\"Date\") #sorting it by date"
   ]
  },
  {
   "cell_type": "markdown",
   "id": "bbb13381",
   "metadata": {},
   "source": [
    "### Vizualising the trend"
   ]
  },
  {
   "cell_type": "code",
   "execution_count": 19,
   "id": "c5e7484e",
   "metadata": {},
   "outputs": [],
   "source": [
    "import matplotlib.pyplot as plt"
   ]
  },
  {
   "cell_type": "code",
   "execution_count": 47,
   "id": "3181c551",
   "metadata": {},
   "outputs": [
    {
     "data": {
      "image/png": "[encoded data removed]",
      "text/plain": [
       "<Figure size 800x200 with 1 Axes>"
      ]
     },
     "metadata": {},
     "output_type": "display_data"
    }
   ],
   "source": [
    "plt.figure(figsize=(8,2))\n",
    "plt.plot(data[\"Date\"],data[\"Estimated Unemployment Rate (%)\"],marker=\"o\",color=\"red\")\n",
    "plt.title(\"Umemployment Trend\")\n",
    "plt.xlabel(\"Date\")\n",
    "plt.ylabel(\"% Participation\")\n",
    "plt.grid(True)"
   ]
  },
  {
   "cell_type": "code",
   "execution_count": 45,
   "id": "a56282ff",
   "metadata": {},
   "outputs": [
    {
     "data": {
      "image/png": "[encoded data removed]",
      "text/plain": [
       "<Figure size 800x200 with 1 Axes>"
      ]
     },
     "metadata": {},
     "output_type": "display_data"
    }
   ],
   "source": [
    "plt.figure(figsize=(8,2))\n",
    "plt.scatter(data[\"Date\"],data[\"Estimated Unemployment Rate (%)\"])\n",
    "plt.ylabel(\"% Participation\")\n",
    "plt.xlabel(\"Date\")\n",
    "plt.show()"
   ]
  },
  {
   "cell_type": "markdown",
   "id": "acb6b0fe",
   "metadata": {},
   "source": [
    "### Interpretation:\n",
    "\n",
    "A steady increase in the unemployement is seen from 2019 to 2020 during the Covid-19 phase. Considering the central tendancies measure, the average unemployement percentage comes out to be 10.33% in 2019 but, in 2020 the unemployement rate reached 12.23% which evidently depicts a sharp increase in unemployement rate."
   ]
  },
  {
   "cell_type": "markdown",
   "id": "1171cacf",
   "metadata": {},
   "source": [
    "### ___ END ___"
   ]
  }
 ],
 "metadata": {
  "kernelspec": {
   "display_name": "Python 3 (ipykernel)",
   "language": "python",
   "name": "python3"
  },
  "language_info": {
   "codemirror_mode": {
    "name": "ipython",
    "version": 3
   },
   "file_extension": ".py",
   "mimetype": "text/x-python",
   "name": "python",
   "nbconvert_exporter": "python",
   "pygments_lexer": "ipython3",
   "version": "3.11.5"
  }
 },
 "nbformat": 4,
 "nbformat_minor": 5
}
